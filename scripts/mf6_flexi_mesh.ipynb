{
 "cells": [
  {
   "cell_type": "markdown",
   "metadata": {},
   "source": [
    "### Example using MF6 flexible discretisation"
   ]
  },
  {
   "cell_type": "code",
   "execution_count": null,
   "metadata": {},
   "outputs": [],
   "source": [
    "import os\n",
    "import numpy as np\n",
    "import pandas as pd\n",
    "import matplotlib.pyplot as plt\n",
    "from shapely.geometry import Point, Polygon, LineString\n",
    "import flopy\n",
    "from flopy.discretization import VertexGrid\n",
    "from flopy.utils.triangle import Triangle as Triangle\n",
    "from flopy.utils.voronoi import VoronoiGrid\n",
    "%matplotlib inline\n",
    "from collections import OrderedDict"
   ]
  },
  {
   "cell_type": "markdown",
   "metadata": {},
   "source": [
    "### Set up project paths"
   ]
  },
  {
   "cell_type": "code",
   "execution_count": null,
   "metadata": {},
   "outputs": [],
   "source": [
    "triExeName = './exe/triangle.exe'\n",
    "mf6ExeName = './exe/mf6.exe'\n",
    "name = 'mf6_example'\n",
    "# For this example, we will set up a model workspace.\n",
    "# Model input files and output files will reside here.\n",
    "workspace = './modelfiles'\n",
    "if not os.path.exists(workspace):\n",
    "    os.makedirs(workspace)"
   ]
  },
  {
   "cell_type": "markdown",
   "metadata": {},
   "source": [
    "### Define domains\n",
    "The model domain is a low K area and there is a high K zone conceptualized as a rectangle in the center left part of the model. "
   ]
  },
  {
   "cell_type": "code",
   "execution_count": null,
   "metadata": {},
   "outputs": [],
   "source": [
    "Lx = 5000.\n",
    "Ly = 3000.\n",
    "domain = [(0, 0),(Lx,0), (Lx,Ly), (0, Ly)]\n",
    "hiK_zone = [(1500, 1400), (2300, 600), (2800, 620),(3500, 1400), (2300, 1800), (1800, 1700), (1500,1600)]\n",
    "\n",
    "# Create a Polygon\n",
    "domain_poly = Polygon(domain)\n",
    "hiK_zone_poly = Polygon(hiK_zone)"
   ]
  },
  {
   "cell_type": "markdown",
   "metadata": {},
   "source": [
    "### Triangle mesh creation"
   ]
  },
  {
   "cell_type": "code",
   "execution_count": null,
   "metadata": {},
   "outputs": [],
   "source": [
    "tri = Triangle(angle=32, model_ws=workspace, exe_name=triExeName)\n",
    "tri.add_polygon(domain)\n",
    "tri.add_polygon(hiK_zone)\n",
    "tri.add_region((1000,200),0,maximum_area=50000) #coarse discretization in domain Default = 50000\n",
    "tri.add_region((2500,1500),0,maximum_area=10000) #fine discretization in hiK_zone Default = 10000\n",
    "tri.build()\n",
    "\n",
    "cell2d = tri.get_cell2d()     # cell info: id,x,y,nc,c1,c2,c3 (list of lists)\n",
    "vertices = tri.get_vertices()\n",
    "xcyc = tri.get_xcyc()   \n",
    "vgrid = flopy.discretization.VertexGrid(vertices=vertices, \n",
    "                                             cell2d=cell2d, \n",
    "                                             ncpl = len(cell2d), \n",
    "                                             nlay = 1)  \n",
    "gi = flopy.utils.GridIntersect(vgrid)"
   ]
  },
  {
   "cell_type": "markdown",
   "metadata": {},
   "source": [
    "### Voronoi mesh creation"
   ]
  },
  {
   "cell_type": "code",
   "execution_count": null,
   "metadata": {},
   "outputs": [],
   "source": [
    "vor = VoronoiGrid(tri)\n",
    "vorvertices = vor.get_disv_gridprops()['vertices']\n",
    "vorcell2d = vor.get_disv_gridprops()['cell2d']\n",
    "vorxcyc = []\n",
    "for cell in vorcell2d:\n",
    "    vorxcyc.append((cell[1],cell[2]))\n",
    "vorvgrid = flopy.discretization.VertexGrid(vertices=vorvertices, \n",
    "                                             cell2d=vorcell2d, \n",
    "                                             ncpl = len(vorcell2d), \n",
    "                                             nlay = 1)  \n",
    "vorgi = flopy.utils.GridIntersect(vorvgrid)"
   ]
  },
  {
   "cell_type": "markdown",
   "metadata": {},
   "source": [
    "### Generate mesh\n",
    "\n",
    "The next step is the mesh representation representation and a identification of the boundaries create from the mesh generation"
   ]
  },
  {
   "cell_type": "code",
   "execution_count": null,
   "metadata": {},
   "outputs": [],
   "source": [
    "fig = plt.figure(figsize=(5, 7))\n",
    "ax = plt.subplot(2, 1, 1, aspect='equal')\n",
    "tri.plot(edgecolor='gray', lw=0.5, ax=ax)\n",
    "ax.plot(*hiK_zone_poly.exterior.xy, color='red', lw=1.5)\n",
    "for i in xcyc: \n",
    "    ax.plot(i[0], i[1], 'o', color = 'green', ms = 0.5)  \n",
    "ax.set_ylabel('y (m)')\n",
    "ax.set_title(f'Triangular Mesh, ncell = {len(cell2d)}')\n",
    "\n",
    "\n",
    "ax = plt.subplot(2, 1, 2, aspect='equal')\n",
    "vor.plot(edgecolor='gray', lw=0.5, ax=ax)\n",
    "ax.plot(*hiK_zone_poly.exterior.xy, color='red', lw=1.5)\n",
    "for i in vorxcyc: \n",
    "    ax.plot(i[0], i[1], 'o', color = 'green', ms = 0.5)  \n",
    "ax.set_title(f'Voronoi Mesh, ncell = {len(vorcell2d)}')\n",
    "ax.set_xlabel('x (m)')\n",
    "ax.set_ylabel('y (m)')"
   ]
  },
  {
   "cell_type": "markdown",
   "metadata": {},
   "source": [
    "### Identify important cells"
   ]
  },
  {
   "cell_type": "code",
   "execution_count": null,
   "metadata": {},
   "outputs": [],
   "source": [
    "# West head boundary\n",
    "west = [(0, 0), (0, Ly)]\n",
    "west_ls = LineString(west)\n",
    "west_cells = gi.intersects(west_ls)[\"cellids\"]\n",
    "vor_west_cells = vorgi.intersects(west_ls)[\"cellids\"]\n",
    "\n",
    "# East head boundary\n",
    "east = [(Lx, 0), (Lx, Ly)]\n",
    "east_ls = LineString(east)\n",
    "east_cells = gi.intersects(east_ls)[\"cellids\"]\n",
    "vor_east_cells = vorgi.intersects(east_ls)[\"cellids\"]\n",
    "\n",
    "# HiK cells\n",
    "hiK_cells = []\n",
    "for i in range(len(cell2d)):\n",
    "    point = Point(cell2d[i][1],cell2d[i][2])\n",
    "    if point.within(hiK_zone_poly):\n",
    "        hiK_cells.append(cell2d[i][0])\n",
    "\n",
    "vor_hiK_cells = []\n",
    "for i in range(len(vorcell2d)):\n",
    "    point = Point(vorcell2d[i][1],vorcell2d[i][2])\n",
    "    if point.within(hiK_zone_poly):\n",
    "        vor_hiK_cells.append(vorcell2d[i][0])\n",
    "\n",
    "print('Triangulated grid hiK cells:', len(hiK_cells))\n",
    "print('Voronoi grid hiK cells:', len(vor_hiK_cells))"
   ]
  },
  {
   "cell_type": "markdown",
   "metadata": {},
   "source": [
    "### Plot special cells"
   ]
  },
  {
   "cell_type": "code",
   "execution_count": null,
   "metadata": {},
   "outputs": [],
   "source": [
    "def plot_head_boundary(cell2d, west_cells, east_cells, hiK_cells, vgrid):\n",
    "\n",
    "    fig = plt.figure(figsize=(7,5))\n",
    "    ax = fig.add_subplot(1, 1, 1, aspect=\"equal\")\n",
    "    ax.set_title('Head boundary')\n",
    "        \n",
    "    pmv = flopy.plot.PlotMapView(ax = ax, modelgrid=vgrid)\n",
    "    pmv.plot_grid(color = 'gray', lw = 0.4)\n",
    "\n",
    "    ibd = np.ones((len(cell2d),), dtype=int)  # Initialize ibd wi\n",
    "    for cell in west_cells: \n",
    "        ax.plot(cell2d[cell][1], cell2d[cell][2], \"o\", color = 'red', ms = 1)\n",
    "        ibd[cell] = 2  # Set west cells to 2th ones\n",
    "    for cell in east_cells: \n",
    "        ax.plot(cell2d[cell][1], cell2d[cell][2], \"o\", color = 'red', ms = 1)\n",
    "        ibd[cell] = 2  # Set east cells to 2\n",
    "    for cell in hiK_cells: \n",
    "        ax.plot(cell2d[cell][1], cell2d[cell][2], \"o\", color = 'red', ms = 1)\n",
    "        ibd[cell] = 3  # Set hiK cells to 3\n",
    "    p = pmv.plot_array(ibd, alpha = 0.6)\n",
    "        \n",
    "plot_head_boundary(cell2d, west_cells, east_cells, hiK_cells, vgrid)\n",
    "plot_head_boundary(vorcell2d, vor_west_cells, vor_east_cells, vor_hiK_cells, vorvgrid)"
   ]
  },
  {
   "cell_type": "markdown",
   "metadata": {},
   "source": [
    "### Set up parameters"
   ]
  },
  {
   "cell_type": "code",
   "execution_count": null,
   "metadata": {},
   "outputs": [],
   "source": [
    "# Spatial discretisation\n",
    "nlay = 1\n",
    "top = 100.\n",
    "bottom = 0.\n",
    "\n",
    "# Time discretisation\n",
    "nper = 3          # 3 stress periods\n",
    "perlen1 = 1       # Length of 1st period (days) # Steady state\n",
    "perlen2 = 365     # Length of 2nd period (days)\n",
    "perlen3 = 365     # Length of 3rd period (days)\n",
    "nts1 = 1          # Numer of time-steps 1st period\n",
    "nts2 = 12         # Numer of time-steps 2nd period\n",
    "nts3 = 12         # Numer of time-steps 3rd period\n",
    "perioddata=[(perlen1, nts1, 1.0), (perlen2, nts2, 1.0), (perlen3, nts3, 1.0)]\n",
    "\n",
    "# Hydraulic conductivity and Ss\n",
    "k_global = 0.1 # K in model domain\n",
    "k_hiK = 100   # K in high K zone\n",
    "\n",
    "# Setting k values for each layer\n",
    "k = [k_global for i in range(len(cell2d))]\n",
    "for i in hiK_cells: k[i] = k_hiK\n",
    "\n",
    "# Storativity\n",
    "sy = 0.2\n",
    "ss = 0.0001\n",
    "\n",
    "# Specified head boundaries\n",
    "h_west = 90.\n",
    "h_east = 80.\n",
    "\n",
    "# Initial conditions\n",
    "ic_global = 90.\n",
    "\n",
    "# Specified head package. Don't need to do the ibound=-1 thing in MF6 \n",
    "chd_rec = []\n",
    "for icpl in west_cells: chd_rec.append([(0, icpl), h_west])\n",
    "for icpl in east_cells: chd_rec.append([(0, icpl), h_east])\n"
   ]
  },
  {
   "cell_type": "code",
   "execution_count": null,
   "metadata": {},
   "outputs": [],
   "source": [
    "np.unique(k, return_counts=True)"
   ]
  },
  {
   "cell_type": "code",
   "execution_count": null,
   "metadata": {},
   "outputs": [],
   "source": [
    "fig = plt.figure(figsize=(7, 7))\n",
    "ax = plt.subplot(1, 1, 1, aspect='equal')\n",
    "ax.plot(*hiK_zone_poly.exterior.xy, color='red', lw=1.5)\n",
    "mapview = flopy.plot.PlotMapView(modelgrid=vgrid, ax=ax)#, layer = layer)\n",
    "plan = mapview.plot_array(a = k, cmap='Spectral', alpha=0.8)\n",
    "mapview.plot_grid(lw = 0.2, color = 'black') \n",
    "ax.set_title('Hydraulic conductivity')\n",
    "plt.colorbar(plan, shrink = 0.4)"
   ]
  },
  {
   "cell_type": "markdown",
   "metadata": {},
   "source": [
    "##### Prepare Observations (OBS) package"
   ]
  },
  {
   "cell_type": "code",
   "execution_count": null,
   "metadata": {},
   "outputs": [],
   "source": [
    "# Finding cell id of obs bores\n",
    "obs_coords = [[1000,1500], [1000,600], [2500,600]]\n",
    "obs_cells = []\n",
    "obs_total = len(obs_coords)\n",
    "\n",
    "obs_dist = np.ones((obs_total, len(cell2d)))\n",
    "for j in range(obs_total):\n",
    "    for i in range(len(cell2d)):\n",
    "        obs_dist[j][i] = np.sqrt((cell2d[i][1] - obs_coords[j][0])**2 + (cell2d[i][2] - obs_coords[j][1])**2)\n",
    "    obs_cells.append(np.argmin(obs_dist[j][:]))\n",
    "\n",
    "print(obs_coords)\n",
    "print(obs_cells)"
   ]
  },
  {
   "cell_type": "markdown",
   "metadata": {},
   "source": [
    "##### Prepare Well (WEL) package"
   ]
  },
  {
   "cell_type": "code",
   "execution_count": null,
   "metadata": {},
   "outputs": [],
   "source": [
    "# Finding cell id of most centred cell\n",
    "dist_from_centre = []\n",
    "for i in range(len(cell2d)):\n",
    "    dist_from_centre.append(np.sqrt((cell2d[i][1] - Lx/2)**2 + (cell2d[i][2] - Ly/2)**2))\n",
    "pump1_cell = int(np.argmin(dist_from_centre))\n",
    "pump1_coords = (cell2d[pump1_cell][1],cell2d[pump1_cell][2])\n",
    "print('The pump is located in cell %i at coordinates %s' %(pump1_cell,pump1_coords))\n",
    "\n",
    "layer_loc = 0   # layer pumping well in\n",
    "\n",
    "pumping_rate = -1000.0\n",
    "wel_sp1 = [[(layer_loc, pump1_cell), 0.0]]\n",
    "wel_sp2 = [[(layer_loc, pump1_cell), pumping_rate]]\n",
    "wel_sp3 = [[(layer_loc, pump1_cell), 0.]]\n",
    "well_period_data = {0: wel_sp1, 1: wel_sp2, 2: wel_sp3}\n"
   ]
  },
  {
   "cell_type": "markdown",
   "metadata": {},
   "source": [
    "### Write the packages"
   ]
  },
  {
   "cell_type": "code",
   "execution_count": null,
   "metadata": {},
   "outputs": [],
   "source": [
    "# This sets up the Simulation.\n",
    "sim = flopy.mf6.MFSimulation(sim_name='sim', exe_name=mf6ExeName, version='mf6', sim_ws=workspace)\n",
    "\n",
    "# Time discretisation (TDIS)\n",
    "tdis = flopy.mf6.modflow.mftdis.ModflowTdis(sim, pname='tdis', time_units='DAYS', nper=nper, perioddata=perioddata)\n",
    "\n",
    "# This saves the flow model itself. You can even have multiple flow models in one simulation.\n",
    "gwf = flopy.mf6.ModflowGwf(sim, modelname=name, save_flows=True)\n",
    "\n",
    "# This is the solver package (IMS)\n",
    "ims = flopy.mf6.ModflowIms(sim, print_option='SUMMARY', complexity='complex', outer_dvclose=1.e-6, inner_dvclose=1.e-6)\n",
    "\n",
    "# Discretisation by Vertices DISV (DIS is MF-2005 equivalent, DISU is for fancy stuff)\n",
    "disv = flopy.mf6.ModflowGwfdisv(gwf, length_units='METERS',\n",
    "                               nlay=nlay, ncpl=len(cell2d), nvert=len(vertices),\n",
    "                               top=top, botm=bottom, \n",
    "                               vertices=vertices, cell2d=cell2d)\n",
    "\n",
    "# NPF is like MF2005's LPF. Stores Hydraulic properties.\n",
    "npf = flopy.mf6.ModflowGwfnpf(gwf, k=k, save_flows=True, xt3doptions = True)\n",
    "\n",
    "# Initial conditions (IC)\n",
    "ic = flopy.mf6.ModflowGwfic(gwf, strt=ic_global)\n",
    "\n",
    "# Specified head (CHD)\n",
    "chd = flopy.mf6.ModflowGwfchd(gwf, stress_period_data=chd_rec, save_flows=True)\n",
    "\n",
    "# Well Package (WEL) \n",
    "wel = flopy.mf6.ModflowGwfwel(gwf, stress_period_data=well_period_data)\n",
    "\n",
    "# Storage Package (STO)\n",
    "sto = flopy.mf6.modflow.mfgwfsto.ModflowGwfsto(gwf, \n",
    "                                               iconvert=0, # Force as confined\n",
    "                                               sy = sy,\n",
    "                                               ss=ss, \n",
    "                                               steady_state={0: True},\n",
    "                                               transient={1: True, 2: True},\n",
    "                                               )\n",
    "\n",
    "# Output Control (OC) - you can decide what you want to save\n",
    "oc = flopy.mf6.ModflowGwfoc(gwf,\n",
    "                            budget_filerecord='{}.cbc'.format(name),\n",
    "                            head_filerecord='{}.hds'.format(name),\n",
    "                            saverecord=[('HEAD', 'ALL'),\n",
    "                                        ('BUDGET', 'ALL')],\n",
    "                            printrecord=[('HEAD', 'LAST'),\n",
    "                                         ('BUDGET', 'LAST')])"
   ]
  },
  {
   "cell_type": "code",
   "execution_count": null,
   "metadata": {},
   "outputs": [],
   "source": [
    "# Write and Run model!\n",
    "sim.write_simulation(silent = False)  \n",
    "success, buff = sim.run_simulation(silent = False) "
   ]
  },
  {
   "cell_type": "markdown",
   "metadata": {},
   "source": [
    "### Post-processing of model results"
   ]
  },
  {
   "cell_type": "code",
   "execution_count": null,
   "metadata": {},
   "outputs": [],
   "source": [
    "# Import results\n",
    "fname = os.path.join(workspace, name + '.hds')\n",
    "hds = flopy.utils.binaryfile.HeadFile(fname)\n",
    "\n",
    "heads_all = hds.get_alldata()\n",
    "h1 = hds.get_data(kstpkper=(0, 0))[0][0] # Period 1\n",
    "h2 = hds.get_data(kstpkper=(0, 1))[0][0] # Period 2\n",
    "h3 = hds.get_data(kstpkper=(0, 2))[0][0] # Period 3\n",
    "\n",
    "np.set_printoptions(precision=2)\n",
    "#Print statistics\n",
    "print('Head statistics Start Period 3')\n",
    "print('  min: ', h3.min())\n",
    "print('  max: ', h3.max())\n",
    "print(heads_all.shape)"
   ]
  },
  {
   "cell_type": "markdown",
   "metadata": {},
   "source": [
    "### Plot model results"
   ]
  },
  {
   "cell_type": "code",
   "execution_count": null,
   "metadata": {},
   "outputs": [],
   "source": [
    "# This chunk is to get ready for contouring\n",
    "from scipy.interpolate import griddata\n",
    "x, y = tri.get_xcyc()[:,0],tri.get_xcyc()[:,1]\n",
    "xG = np.linspace(x.min(),x.max(),100)\n",
    "yG = np.linspace(y.min(),y.max(),100)\n",
    "X, Y = np.meshgrid(xG, yG)\n",
    "\n",
    "# Look how we can make a plotting function and use it many times\n",
    "def plot_head(array, title):\n",
    "    fig = plt.figure(figsize=(7, 7))\n",
    "    ax = plt.subplot(1, 1, 1, aspect='equal')\n",
    "    ax.plot(pump1_coords[0],pump1_coords[1], color = 'black', marker = 'o', markersize = 9)\n",
    "    ax.plot(obs_coords[0][0],obs_coords[0][1], color = 'blue', marker = 'o', markersize = 9)\n",
    "    ax.plot(obs_coords[1][0],obs_coords[1][1], color = 'blue', marker = 'o', markersize = 9)\n",
    "    ax.plot(obs_coords[2][0],obs_coords[2][1], color = 'blue', marker = 'o', markersize = 9)\n",
    "    ax.annotate(\"Obs1\", obs_coords[0], size = 11, xytext=(5, 5), textcoords='offset points')\n",
    "    ax.annotate(\"Obs2\", obs_coords[1], size = 11, xytext=(5, 5), textcoords='offset points')\n",
    "    ax.annotate(\"Obs3\", obs_coords[2], size = 11, xytext=(5, 5), textcoords='offset points')\n",
    "    ax.plot(*hiK_zone_poly.exterior.xy, color='red', lw=1.5)\n",
    "    mapview = flopy.plot.PlotMapView(modelgrid=vgrid, ax=ax)#, layer = layer)\n",
    "    plan = mapview.plot_array(a = array, cmap='Spectral', alpha=0.8, vmin = 70, vmax = 90)\n",
    "    mapview.plot_grid(lw = 0.2, color = 'black') \n",
    "\n",
    "    Ti = griddata((x, y), array, (X, Y), method='cubic')\n",
    "    levels = np.arange(50,90,2)\n",
    "    CS = ax.contour(X,Y,Ti,levels,colors='Blue', linewidths=1.0)\n",
    "    ax.clabel(CS, inline=1, fontsize=10, fmt='%1.1f')\n",
    "\n",
    "    ax.set_title(title)\n",
    "    plt.colorbar(plan, shrink = 0.4)\n",
    "\n",
    "\n",
    "plot_head(array = h1, title = 'End of Year 1 (Steady state)')\n",
    "plot_head(array = h2, title = 'End of Year 2 (Pumping)')\n",
    "plot_head(array = h3, title = 'End of Year 3 (Recovery)')"
   ]
  },
  {
   "cell_type": "markdown",
   "metadata": {},
   "source": [
    "### Plot observations in time"
   ]
  },
  {
   "cell_type": "code",
   "execution_count": null,
   "metadata": {},
   "outputs": [],
   "source": [
    "# Define 3 observation locations and create time-series array for each\n",
    "head_pump = []\n",
    "head_obs1 = []\n",
    "head_obs2 = []\n",
    "head_obs3 = []\n",
    "for i in range(nts1 + nts2 + nts3):\n",
    "    head_pump.append(heads_all[i,0,0,pump1_cell])\n",
    "    head_obs1.append(heads_all[i,0,0,obs_cells[0]])\n",
    "    head_obs2.append(heads_all[i,0,0,obs_cells[1]])\n",
    "    head_obs3.append(heads_all[i,0,0,obs_cells[2]])\n",
    "print(len(head_obs1))"
   ]
  },
  {
   "cell_type": "code",
   "execution_count": null,
   "metadata": {},
   "outputs": [],
   "source": [
    "# Plot time series head data at pump and 3 obs locations\n",
    "fig, ax = plt.subplots()\n",
    "fig.suptitle('Head profile at 3 obs bores in time')\n",
    "ax.plot(head_pump, label = 'pump')\n",
    "ax.plot(head_obs1, label = 'obs1')\n",
    "ax.plot(head_obs2, label = 'obs2')\n",
    "ax.plot(head_obs3, label = 'obs3')\n",
    "#ax.set(ylim=(320, 350))\n",
    "ax.set_xlabel('Timestep') \n",
    "ax.set_ylabel('Head (m)') \n",
    "ax.legend()"
   ]
  },
  {
   "cell_type": "code",
   "execution_count": null,
   "metadata": {},
   "outputs": [],
   "source": []
  }
 ],
 "metadata": {
  "kernelspec": {
   "display_name": "gwmodelling",
   "language": "python",
   "name": "python3"
  },
  "language_info": {
   "codemirror_mode": {
    "name": "ipython",
    "version": 3
   },
   "file_extension": ".py",
   "mimetype": "text/x-python",
   "name": "python",
   "nbconvert_exporter": "python",
   "pygments_lexer": "ipython3",
   "version": "3.13.5"
  }
 },
 "nbformat": 4,
 "nbformat_minor": 2
}
